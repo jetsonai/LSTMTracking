{
  "nbformat": 4,
  "nbformat_minor": 0,
  "metadata": {
    "colab": {
      "provenance": [],
      "gpuType": "T4"
    },
    "kernelspec": {
      "name": "python3",
      "display_name": "Python 3"
    },
    "language_info": {
      "name": "python"
    },
    "accelerator": "GPU"
  },
  "cells": [
    {
      "cell_type": "markdown",
      "source": [
        "# **Keras를 활용한 Trajectory Prediction**"
      ],
      "metadata": {
        "id": "7JALIS_P9tXL"
      }
    },
    {
      "cell_type": "markdown",
      "source": [
        "## **Google Drive Mount 하기**"
      ],
      "metadata": {
        "id": "5o-HKa2J9x1j"
      }
    },
    {
      "cell_type": "code",
      "execution_count": null,
      "metadata": {
        "id": "pIlgyXK082-y"
      },
      "outputs": [],
      "source": [
        "from google.colab import drive\n",
        "\n",
        "drive.mount(\"/content/gdrive\")"
      ]
    },
    {
      "cell_type": "markdown",
      "source": [
        "## **사용할 라이브러리 불러오기**"
      ],
      "metadata": {
        "id": "9PJXRb4-93rw"
      }
    },
    {
      "cell_type": "code",
      "source": [
        "import numpy as np\n",
        "import pandas as pd\n",
        "from sklearn.model_selection import train_test_split\n",
        "import matplotlib.pyplot as plt"
      ],
      "metadata": {
        "id": "YAhEX7j395Fm"
      },
      "execution_count": null,
      "outputs": []
    },
    {
      "cell_type": "markdown",
      "source": [
        "## **데이터 읽어오기**"
      ],
      "metadata": {
        "id": "bKkjBMMH-CBQ"
      }
    },
    {
      "cell_type": "markdown",
      "source": [
        "### **Bounding Box에서 얻은 좌표를 기반으로 작성된 데이터셋**"
      ],
      "metadata": {
        "id": "tQjhkCVyK5qs"
      }
    },
    {
      "cell_type": "code",
      "source": [
        "!unzip \"/content/gdrive/MyDrive/LSTMTracking/dataset/HCMC-vehicle-dataset.zip\""
      ],
      "metadata": {
        "id": "0Z-7ipumDtES"
      },
      "execution_count": null,
      "outputs": []
    },
    {
      "cell_type": "code",
      "source": [
        "data = pd.read_csv(\"/content/HCMC-vehicle-dataset.csv\", index_col=0)"
      ],
      "metadata": {
        "id": "y_oUl1QD-Dq0"
      },
      "execution_count": null,
      "outputs": []
    },
    {
      "cell_type": "markdown",
      "source": [
        "## **전처리 진행하기**"
      ],
      "metadata": {
        "id": "qGDJrVcR-I4i"
      }
    },
    {
      "cell_type": "code",
      "source": [
        "data.head(10)"
      ],
      "metadata": {
        "id": "wnp_aOISDx0T"
      },
      "execution_count": null,
      "outputs": []
    },
    {
      "cell_type": "markdown",
      "source": [
        "### **One-Hot Encoding 적용**"
      ],
      "metadata": {
        "id": "qBc2b1xnD10S"
      }
    },
    {
      "cell_type": "code",
      "source": [
        "classNameEncoded = pd.get_dummies(data[\"Class_name\"]).astype(\"int\")"
      ],
      "metadata": {
        "id": "bLrYwd-S-KPe"
      },
      "execution_count": null,
      "outputs": []
    },
    {
      "cell_type": "code",
      "source": [
        "data = data.drop([\"Class_name\"], axis=1)"
      ],
      "metadata": {
        "id": "RCmK4sRe-Rv0"
      },
      "execution_count": null,
      "outputs": []
    },
    {
      "cell_type": "code",
      "source": [
        "data = pd.concat([data, classNameEncoded], axis=1)"
      ],
      "metadata": {
        "id": "VW_eXy7F-T_L"
      },
      "execution_count": null,
      "outputs": []
    },
    {
      "cell_type": "code",
      "source": [
        "data.head(10)"
      ],
      "metadata": {
        "id": "1ct8xwSP-WB6"
      },
      "execution_count": null,
      "outputs": []
    },
    {
      "cell_type": "markdown",
      "source": [
        "### **데이터 전반적으로 살펴 보기**"
      ],
      "metadata": {
        "id": "pjTYgqrYEaUI"
      }
    },
    {
      "cell_type": "code",
      "source": [
        "data.info()"
      ],
      "metadata": {
        "id": "P6IV-biMEeYJ"
      },
      "execution_count": null,
      "outputs": []
    },
    {
      "cell_type": "code",
      "source": [
        "data.describe()"
      ],
      "metadata": {
        "id": "uyw9T5yuEf-p"
      },
      "execution_count": null,
      "outputs": []
    },
    {
      "cell_type": "markdown",
      "source": [
        "## **Train / Test Dataset 분리**"
      ],
      "metadata": {
        "id": "reRLgWXhEMOk"
      }
    },
    {
      "cell_type": "code",
      "source": [
        "targetCol = [\"X_max_8\", \"X_min_8\", \"Y_max_8\", \"Y_min_8\"]"
      ],
      "metadata": {
        "id": "LIoD4FXcEOON"
      },
      "execution_count": null,
      "outputs": []
    },
    {
      "cell_type": "code",
      "source": [
        "input = data.drop(targetCol + [\"Track_ID\", \"arrival\"], axis=1)\n",
        "target = data[targetCol]"
      ],
      "metadata": {
        "id": "JVglJHkLEkOa"
      },
      "execution_count": null,
      "outputs": []
    },
    {
      "cell_type": "code",
      "source": [
        "input.head(10)"
      ],
      "metadata": {
        "id": "Hw-JrpyyEvRy"
      },
      "execution_count": null,
      "outputs": []
    },
    {
      "cell_type": "code",
      "source": [
        "target.head(10)"
      ],
      "metadata": {
        "id": "dTsH5WSzEwzl"
      },
      "execution_count": null,
      "outputs": []
    },
    {
      "cell_type": "markdown",
      "source": [
        "### **Scikit-Learn 라이브러리 사용**"
      ],
      "metadata": {
        "id": "ysPeR-jTFxu6"
      }
    },
    {
      "cell_type": "code",
      "source": [
        "xTrain, xTest, yTrain, yTest = train_test_split(input, target, test_size=0.1, random_state=42)"
      ],
      "metadata": {
        "id": "qj1W_VT4FA45"
      },
      "execution_count": null,
      "outputs": []
    },
    {
      "cell_type": "code",
      "source": [
        "print(f\"Input Train Data Shape : {xTrain.shape}\")\n",
        "print(f\"Target Train Data Shape : {yTrain.shape}\")"
      ],
      "metadata": {
        "id": "iGWlezPxGAEC"
      },
      "execution_count": null,
      "outputs": []
    },
    {
      "cell_type": "code",
      "source": [
        "timesteps = xTrain.shape[1]"
      ],
      "metadata": {
        "id": "4p5gzdJ2FEzf"
      },
      "execution_count": null,
      "outputs": []
    },
    {
      "cell_type": "code",
      "source": [
        "xTrain = xTrain.values.reshape((xTrain.shape[0], timesteps, 1))\n",
        "xTest = xTest.values.reshape((xTest.shape[0], timesteps, 1))\n",
        "yTrain = yTrain.values.reshape((yTrain.shape[0], 4))\n",
        "yTest = yTest.values.reshape((yTest.shape[0], 4))"
      ],
      "metadata": {
        "id": "FAobfmvTFFkq"
      },
      "execution_count": null,
      "outputs": []
    },
    {
      "cell_type": "code",
      "source": [
        "print(f\"Input Train Data Shape : {xTrain.shape}\")\n",
        "print(f\"Target Train Data Shape : {yTrain.shape}\")"
      ],
      "metadata": {
        "id": "k1OxSQlyF84i"
      },
      "execution_count": null,
      "outputs": []
    },
    {
      "cell_type": "markdown",
      "source": [
        "## **Keras 라이브러릴 활용한 Seqeuntial Data Analysis 진행**"
      ],
      "metadata": {
        "id": "ZhonIIlDGf1N"
      }
    },
    {
      "cell_type": "markdown",
      "source": [
        "### **하이퍼파라미터 설정**"
      ],
      "metadata": {
        "id": "q6i2Mtbwj-WZ"
      }
    },
    {
      "cell_type": "code",
      "source": [
        "opt = {\"batchSize\":128, \"optimizer\":\"adam\", \"loss\":\"mean_squared_error\", \"epoch\":50}"
      ],
      "metadata": {
        "id": "jfTFmkjtkBWr"
      },
      "execution_count": null,
      "outputs": []
    },
    {
      "cell_type": "markdown",
      "source": [
        "### **Tensorflow 및 Keras 라이브러리 불러오기**"
      ],
      "metadata": {
        "id": "9MthYuyiGlaq"
      }
    },
    {
      "cell_type": "code",
      "source": [
        "from keras.layers import Input, Dense, LSTM, Conv1D, MaxPooling1D, Flatten, GRU\n",
        "from keras.models import Sequential, Model, load_model"
      ],
      "metadata": {
        "id": "Z9ibvPLfGj-q"
      },
      "execution_count": null,
      "outputs": []
    },
    {
      "cell_type": "markdown",
      "source": [
        "### **LSTM 모델 제작 / 훈련 / 추론 진행**"
      ],
      "metadata": {
        "id": "7GlIM2egG000"
      }
    },
    {
      "cell_type": "code",
      "source": [
        "inputShape = (xTrain.shape[1], xTrain.shape[2])"
      ],
      "metadata": {
        "id": "WQS4lsjyGsU0"
      },
      "execution_count": null,
      "outputs": []
    },
    {
      "cell_type": "code",
      "source": [
        "model = Sequential()\n",
        "model.add(Input(inputShape))\n",
        "model.add(LSTM(50))\n",
        "model.add(Dense(4))"
      ],
      "metadata": {
        "id": "zgaOuX-8G67x"
      },
      "execution_count": null,
      "outputs": []
    },
    {
      "cell_type": "code",
      "source": [
        "model.compile(loss=opt[\"loss\"], optimizer=opt[\"optimizer\"])"
      ],
      "metadata": {
        "id": "DJ_vzRLYIiHH"
      },
      "execution_count": null,
      "outputs": []
    },
    {
      "cell_type": "code",
      "source": [
        "model.summary()"
      ],
      "metadata": {
        "id": "1b707G3AI6Ut"
      },
      "execution_count": null,
      "outputs": []
    },
    {
      "cell_type": "code",
      "source": [
        "history = model.fit(xTrain, yTrain, epochs=opt[\"epoch\"], batch_size=opt[\"batchSize\"], validation_data=(xTest, yTest))"
      ],
      "metadata": {
        "id": "VfQnKlx6Iyai"
      },
      "execution_count": null,
      "outputs": []
    },
    {
      "cell_type": "markdown",
      "source": [
        "#### **LSTM 모델 훈련 결과 시각화**"
      ],
      "metadata": {
        "id": "Ear15KijLBIB"
      }
    },
    {
      "cell_type": "code",
      "source": [
        "history.history"
      ],
      "metadata": {
        "id": "Vs9TSCuhLDT3"
      },
      "execution_count": null,
      "outputs": []
    },
    {
      "cell_type": "code",
      "source": [
        "trainLoss, testLoss = history.history[\"loss\"], history.history[\"val_loss\"]"
      ],
      "metadata": {
        "id": "qfVT152RLNxm"
      },
      "execution_count": null,
      "outputs": []
    },
    {
      "cell_type": "code",
      "source": [
        "plt.plot(np.arange(opt[\"epoch\"]), trainLoss, label=\"Train Loss\")\n",
        "plt.plot(np.arange(opt[\"epoch\"]), testLoss, label=\"Test Loss\")\n",
        "plt.xlabel(\"Epoch\")\n",
        "plt.ylabel(\"MSE Loss\")\n",
        "plt.title(\"[MSE] Train Loss vs. Test Loss\")\n",
        "plt.legend(loc=\"best\")\n",
        "plt.show()"
      ],
      "metadata": {
        "id": "byOWZHHrLFGl"
      },
      "execution_count": null,
      "outputs": []
    },
    {
      "cell_type": "markdown",
      "source": [
        "#### **LSTM 모델 추론 진행**"
      ],
      "metadata": {
        "id": "EvnYpqf4OU04"
      }
    },
    {
      "cell_type": "code",
      "source": [
        "model.evaluate(xTest, yTest, batch_size=opt[\"batchSize\"])"
      ],
      "metadata": {
        "id": "va7aewacOXdW"
      },
      "execution_count": null,
      "outputs": []
    },
    {
      "cell_type": "code",
      "source": [
        "model.save(\"LSTM.keras\")"
      ],
      "metadata": {
        "id": "sZYVUCyjOXpV"
      },
      "execution_count": null,
      "outputs": []
    },
    {
      "cell_type": "markdown",
      "source": [
        "### **GRU 모델 제작 / 훈련 / 추론 진행**"
      ],
      "metadata": {
        "id": "pcA8OnT-QylN"
      }
    },
    {
      "cell_type": "code",
      "source": [
        "inputShape = (xTrain.shape[1], xTrain.shape[2])"
      ],
      "metadata": {
        "id": "QbsTq4G_QylS"
      },
      "execution_count": null,
      "outputs": []
    },
    {
      "cell_type": "code",
      "source": [
        "model = Sequential()\n",
        "model.add(Input(inputShape))\n",
        "model.add(GRU(50))\n",
        "model.add(Dense(4))"
      ],
      "metadata": {
        "id": "c4oRxzFOQylS"
      },
      "execution_count": null,
      "outputs": []
    },
    {
      "cell_type": "code",
      "source": [
        "model.compile(loss=opt[\"loss\"], optimizer=opt[\"optimizer\"])"
      ],
      "metadata": {
        "id": "1GgjzH2nQylS"
      },
      "execution_count": null,
      "outputs": []
    },
    {
      "cell_type": "code",
      "source": [
        "model.summary()"
      ],
      "metadata": {
        "id": "5sU83nMbQylT"
      },
      "execution_count": null,
      "outputs": []
    },
    {
      "cell_type": "code",
      "source": [
        "history = model.fit(xTrain, yTrain, epochs=opt[\"epoch\"], batch_size=opt[\"batchSize\"], validation_data=(xTest, yTest))"
      ],
      "metadata": {
        "id": "mgzaEm2xQylT",
        "collapsed": true
      },
      "execution_count": null,
      "outputs": []
    },
    {
      "cell_type": "markdown",
      "source": [
        "#### **LSTM 모델 훈련 결과 시각화**"
      ],
      "metadata": {
        "id": "I_a4U5RvQylT"
      }
    },
    {
      "cell_type": "code",
      "source": [
        "history.history"
      ],
      "metadata": {
        "id": "Q6HLR3eaQylT"
      },
      "execution_count": null,
      "outputs": []
    },
    {
      "cell_type": "code",
      "source": [
        "trainLoss, testLoss = history.history[\"loss\"], history.history[\"val_loss\"]"
      ],
      "metadata": {
        "id": "soR0yGZxQylT"
      },
      "execution_count": null,
      "outputs": []
    },
    {
      "cell_type": "code",
      "source": [
        "plt.plot(np.arange(opt[\"epoch\"]), trainLoss, label=\"Train Loss\")\n",
        "plt.plot(np.arange(opt[\"epoch\"]), testLoss, label=\"Test Loss\")\n",
        "plt.xlabel(\"Epoch\")\n",
        "plt.ylabel(\"MSE Loss\")\n",
        "plt.title(\"[MSE] Train Loss vs. Test Loss\")\n",
        "plt.legend(loc=\"best\")\n",
        "plt.show()"
      ],
      "metadata": {
        "id": "c9Oa7YqRQylT"
      },
      "execution_count": null,
      "outputs": []
    },
    {
      "cell_type": "markdown",
      "source": [
        "#### **GRU 모델 추론 진행**"
      ],
      "metadata": {
        "id": "7fo7zd7RQ-tz"
      }
    },
    {
      "cell_type": "code",
      "source": [
        "model.evaluate(xTest, yTest, batch_size=opt[\"batchSize\"])"
      ],
      "metadata": {
        "id": "DzAn2WlCQ-t4"
      },
      "execution_count": null,
      "outputs": []
    },
    {
      "cell_type": "code",
      "source": [
        "model.save(\"GRU.keras\")"
      ],
      "metadata": {
        "id": "Tx4PnEKZQ-t4"
      },
      "execution_count": null,
      "outputs": []
    },
    {
      "cell_type": "markdown",
      "source": [
        "### **1-D Convolution를 조합한 LSTM 모델 제작 / 훈련 / 추론 진행**"
      ],
      "metadata": {
        "id": "dfNs8xFgSmDD"
      }
    },
    {
      "cell_type": "code",
      "source": [
        "inputShape = (xTrain.shape[1], 1)"
      ],
      "metadata": {
        "id": "kTpuiW1ASmDD"
      },
      "execution_count": null,
      "outputs": []
    },
    {
      "cell_type": "code",
      "source": [
        "inputLayer = Input(inputShape)\n",
        "cnnLayer = Conv1D(32, kernel_size=3, activation=\"relu\")(inputLayer)\n",
        "cnnLayer = MaxPooling1D(pool_size=2)(cnnLayer)\n",
        "lstmLayer = LSTM(50)(cnnLayer)\n",
        "outputLayer = Dense(4)(lstmLayer)"
      ],
      "metadata": {
        "id": "NlVfzu9RSmDD"
      },
      "execution_count": null,
      "outputs": []
    },
    {
      "cell_type": "code",
      "source": [
        "modelLSTM = Model(inputs=inputLayer, outputs=outputLayer)"
      ],
      "metadata": {
        "id": "aGEn8o07S_Mv"
      },
      "execution_count": null,
      "outputs": []
    },
    {
      "cell_type": "code",
      "source": [
        "modelLSTM.compile(loss=opt[\"loss\"], optimizer=opt[\"optimizer\"])"
      ],
      "metadata": {
        "id": "j2mt_BtGSmDD"
      },
      "execution_count": null,
      "outputs": []
    },
    {
      "cell_type": "code",
      "source": [
        "modelLSTM.summary()"
      ],
      "metadata": {
        "id": "-TUuyUT2SmDD"
      },
      "execution_count": null,
      "outputs": []
    },
    {
      "cell_type": "code",
      "source": [
        "history = modelLSTM.fit(xTrain, yTrain, epochs=opt[\"epoch\"], batch_size=opt[\"batchSize\"], validation_data=(xTest, yTest))"
      ],
      "metadata": {
        "id": "R-RHISY_SmDD"
      },
      "execution_count": null,
      "outputs": []
    },
    {
      "cell_type": "markdown",
      "source": [
        "#### **1-D Convolution을 조합한 LSTM 모델 훈련 결과 시각화**"
      ],
      "metadata": {
        "id": "7uERO0awSmDD"
      }
    },
    {
      "cell_type": "code",
      "source": [
        "history.history"
      ],
      "metadata": {
        "id": "4kPCCl6ZSmDE"
      },
      "execution_count": null,
      "outputs": []
    },
    {
      "cell_type": "code",
      "source": [
        "trainLoss, testLoss = history.history[\"loss\"], history.history[\"val_loss\"]"
      ],
      "metadata": {
        "id": "oAH1ejsxSmDE"
      },
      "execution_count": null,
      "outputs": []
    },
    {
      "cell_type": "code",
      "source": [
        "plt.plot(np.arange(opt[\"epoch\"]), trainLoss, label=\"Train Loss\")\n",
        "plt.plot(np.arange(opt[\"epoch\"]), testLoss, label=\"Test Loss\")\n",
        "plt.xlabel(\"Epoch\")\n",
        "plt.ylabel(\"MSE Loss\")\n",
        "plt.title(\"[MSE] Train Loss vs. Test Loss\")\n",
        "plt.legend(loc=\"best\")\n",
        "plt.show()"
      ],
      "metadata": {
        "id": "Ywd74e-JSmDE"
      },
      "execution_count": null,
      "outputs": []
    },
    {
      "cell_type": "markdown",
      "source": [
        "#### **1-D Convolution을 조합한 LSTM 모델 모델 추론 진행**"
      ],
      "metadata": {
        "id": "sd3EYcSKSmDE"
      }
    },
    {
      "cell_type": "code",
      "source": [
        "modelLSTM.evaluate(xTest, yTest, batch_size=opt[\"batchSize\"])"
      ],
      "metadata": {
        "id": "4UujQbDCSmDE"
      },
      "execution_count": null,
      "outputs": []
    },
    {
      "cell_type": "code",
      "source": [
        "modelLSTM.save(\"Conv-LSTM.keras\")"
      ],
      "metadata": {
        "id": "3wFtSwMzUZz8"
      },
      "execution_count": null,
      "outputs": []
    },
    {
      "cell_type": "markdown",
      "source": [
        "### **1-D Convolution를 조합한 GRU 모델 제작 / 훈련 / 추론 진행**"
      ],
      "metadata": {
        "id": "10d0nDEZUfOL"
      }
    },
    {
      "cell_type": "code",
      "source": [
        "inputShape = (xTrain.shape[1], 1)"
      ],
      "metadata": {
        "id": "rXRXI_xuUfOP"
      },
      "execution_count": null,
      "outputs": []
    },
    {
      "cell_type": "code",
      "source": [
        "inputLayer = Input(inputShape)\n",
        "cnnLayer = Conv1D(32, kernel_size=3, activation=\"relu\")(inputLayer)\n",
        "cnnLayer = MaxPooling1D(pool_size=2)(cnnLayer)\n",
        "gruLayer = GRU(50)(cnnLayer)\n",
        "outputLayer = Dense(4)(gruLayer)"
      ],
      "metadata": {
        "id": "sta4h6dQUfOP"
      },
      "execution_count": null,
      "outputs": []
    },
    {
      "cell_type": "code",
      "source": [
        "modelGRU = Model(inputs=inputLayer, outputs=outputLayer)"
      ],
      "metadata": {
        "id": "2Lsc10R5UfOP"
      },
      "execution_count": null,
      "outputs": []
    },
    {
      "cell_type": "code",
      "source": [
        "modelGRU.compile(loss=opt[\"loss\"], optimizer=opt[\"optimizer\"])"
      ],
      "metadata": {
        "id": "PputB-PAUfOQ"
      },
      "execution_count": null,
      "outputs": []
    },
    {
      "cell_type": "code",
      "source": [
        "modelGRU.summary()"
      ],
      "metadata": {
        "id": "rUeabfR9UfOQ"
      },
      "execution_count": null,
      "outputs": []
    },
    {
      "cell_type": "code",
      "source": [
        "history = modelGRU.fit(xTrain, yTrain, epochs=opt[\"epoch\"], batch_size=opt[\"batchSize\"], validation_data=(xTest, yTest))"
      ],
      "metadata": {
        "id": "t9keuNp0UfOQ"
      },
      "execution_count": null,
      "outputs": []
    },
    {
      "cell_type": "markdown",
      "source": [
        "#### **1-D Convolution을 조합한 GRU 모델 훈련 결과 시각화**"
      ],
      "metadata": {
        "id": "iQ3-mHiUUfOQ"
      }
    },
    {
      "cell_type": "code",
      "source": [
        "history.history"
      ],
      "metadata": {
        "id": "vr8h4Ay6UfOQ"
      },
      "execution_count": null,
      "outputs": []
    },
    {
      "cell_type": "code",
      "source": [
        "trainLoss, testLoss = history.history[\"loss\"], history.history[\"val_loss\"]"
      ],
      "metadata": {
        "id": "9-iZ4hiZUfOQ"
      },
      "execution_count": null,
      "outputs": []
    },
    {
      "cell_type": "code",
      "source": [
        "plt.plot(np.arange(opt[\"epoch\"]), trainLoss, label=\"Train Loss\")\n",
        "plt.plot(np.arange(opt[\"epoch\"]), testLoss, label=\"Test Loss\")\n",
        "plt.xlabel(\"Epoch\")\n",
        "plt.ylabel(\"MSE Loss\")\n",
        "plt.title(\"[MSE] Train Loss vs. Test Loss\")\n",
        "plt.legend(loc=\"best\")\n",
        "plt.show()"
      ],
      "metadata": {
        "id": "rZec8ixeUfOQ"
      },
      "execution_count": null,
      "outputs": []
    },
    {
      "cell_type": "markdown",
      "source": [
        "#### **1-D Convolution을 조합한 GRU 모델 모델 추론 진행**"
      ],
      "metadata": {
        "id": "OTqhD3rZUfOQ"
      }
    },
    {
      "cell_type": "code",
      "source": [
        "modelGRU.evaluate(xTest, yTest, batch_size=opt[\"batchSize\"])"
      ],
      "metadata": {
        "id": "7BdOjI7tUfOQ"
      },
      "execution_count": null,
      "outputs": []
    },
    {
      "cell_type": "code",
      "source": [
        "modelGRU.save(\"Conv-GRU.keras\")"
      ],
      "metadata": {
        "id": "mpukCXsQUfOQ"
      },
      "execution_count": null,
      "outputs": []
    },
    {
      "cell_type": "markdown",
      "source": [
        "### **LSTM과 GRU 추론 결과 비교**"
      ],
      "metadata": {
        "id": "2VdSFeXnVbLj"
      }
    },
    {
      "cell_type": "code",
      "source": [
        "predLSTM = modelLSTM.predict(xTest)"
      ],
      "metadata": {
        "id": "bhGOQUO2VeI2"
      },
      "execution_count": null,
      "outputs": []
    },
    {
      "cell_type": "code",
      "source": [
        "predGRU = modelGRU.predict(xTest)"
      ],
      "metadata": {
        "id": "W0rG-kmDVjXX"
      },
      "execution_count": null,
      "outputs": []
    },
    {
      "cell_type": "code",
      "source": [
        "pd.DataFrame({\"Pred X Min (LSTM)\":predLSTM[:,0], \"Pred X Min (GRU)\":predGRU[:,0], \"Target X Min\":yTest[:,0]}).head(10)"
      ],
      "metadata": {
        "id": "MbRIvuudVjpp"
      },
      "execution_count": null,
      "outputs": []
    },
    {
      "cell_type": "markdown",
      "source": [
        "## **Scikit-Learn을 활용한 모델 성능 비교**"
      ],
      "metadata": {
        "id": "G6ebEXcuXAJw"
      }
    },
    {
      "cell_type": "code",
      "source": [
        "from sklearn.metrics import mean_absolute_percentage_error, mean_absolute_error\n",
        "from sklearn.metrics import mean_squared_error, r2_score"
      ],
      "metadata": {
        "id": "1X7fT10RXD0G"
      },
      "execution_count": null,
      "outputs": []
    },
    {
      "cell_type": "markdown",
      "source": [
        "### **Symmetric Mean Absolute Percentage Error (SMAPE)**\n",
        "*   https://computer-nerd-coding.tistory.com/31\n",
        "\n",
        "\n"
      ],
      "metadata": {
        "id": "K5B5Y-Y6aJo1"
      }
    },
    {
      "cell_type": "code",
      "source": [
        "def computeSMAPE(actual, predicted) :\n",
        "    if not all([isinstance(actual, np.ndarray), isinstance(predicted, np.ndarray)]) :\n",
        "        actual, predicted = np.array(actual),\n",
        "        np.array(predicted)\n",
        "    return round(np.mean(np.abs(predicted-actual) / ((np.abs(predicted)+np.abs(actual))/2))*100, 2)"
      ],
      "metadata": {
        "id": "9FIfRo00aKxB"
      },
      "execution_count": null,
      "outputs": []
    },
    {
      "cell_type": "markdown",
      "source": [
        "### **저장된 모델 불러오기**"
      ],
      "metadata": {
        "id": "drA-cQVFXHnP"
      }
    },
    {
      "cell_type": "code",
      "source": [
        "modelLSTM = load_model(\"/content/Conv-LSTM.keras\")"
      ],
      "metadata": {
        "id": "lOh5lJraXG-Q"
      },
      "execution_count": null,
      "outputs": []
    },
    {
      "cell_type": "code",
      "source": [
        "modelGRU = load_model(\"/content/Conv-GRU.keras\")"
      ],
      "metadata": {
        "id": "oK7cR96XXehF"
      },
      "execution_count": null,
      "outputs": []
    },
    {
      "cell_type": "code",
      "source": [
        "predLSTM, predGRU = modelLSTM.predict(xTest), modelGRU.predict(xTest)"
      ],
      "metadata": {
        "id": "VeA0xn9DYZna"
      },
      "execution_count": null,
      "outputs": []
    },
    {
      "cell_type": "code",
      "source": [
        "print(f\"LSTM Prediciton Shape : {predLSTM.shape}\")\n",
        "print(f\"GRU Prediciton Shape : {predGRU.shape}\")"
      ],
      "metadata": {
        "id": "TDCO6-xKZU2C"
      },
      "execution_count": null,
      "outputs": []
    },
    {
      "cell_type": "code",
      "source": [
        "predLSTM = predLSTM.reshape(-1)\n",
        "predGRU = predGRU.reshape(-1)"
      ],
      "metadata": {
        "id": "mmSqrlT1Z3uN"
      },
      "execution_count": null,
      "outputs": []
    },
    {
      "cell_type": "code",
      "source": [
        "print(f\"LSTM Prediciton Shape : {predLSTM.shape}\")\n",
        "print(f\"GRU Prediciton Shape : {predGRU.shape}\")"
      ],
      "metadata": {
        "id": "Sc3WHiGTaD_V"
      },
      "execution_count": null,
      "outputs": []
    },
    {
      "cell_type": "code",
      "source": [
        "yTestFlatten = yTest.reshape(-1)"
      ],
      "metadata": {
        "id": "WZB1uYNfaids"
      },
      "execution_count": null,
      "outputs": []
    },
    {
      "cell_type": "code",
      "source": [
        "print(f\"Test Dataset Shape : {yTestFlatten.shape}\")"
      ],
      "metadata": {
        "id": "-BRFtwCKalDz"
      },
      "execution_count": null,
      "outputs": []
    },
    {
      "cell_type": "markdown",
      "source": [
        "### **Metric 계산하기**"
      ],
      "metadata": {
        "id": "EkWYr8_HaXWH"
      }
    },
    {
      "cell_type": "code",
      "source": [
        "print(\"[Metric] 1-D Conv LSTM\")\n",
        "print(f\"SMAPE : {computeSMAPE(yTestFlatten, predLSTM)}\")\n",
        "print(f\"MSE : {mean_squared_error(yTestFlatten, predLSTM)}\")\n",
        "print(f\"MAE : {mean_absolute_error(yTestFlatten, predLSTM)}\")\n",
        "print(f\"R2 Score : {r2_score(yTestFlatten, predLSTM)}\")"
      ],
      "metadata": {
        "id": "fAgt94J3aZPt"
      },
      "execution_count": null,
      "outputs": []
    },
    {
      "cell_type": "code",
      "source": [
        "print(\"[Metric] 1-D Conv GRU\")\n",
        "print(f\"SMAPE : {computeSMAPE(yTestFlatten, predGRU)}\")\n",
        "print(f\"MSE : {mean_squared_error(yTestFlatten, predGRU)}\")\n",
        "print(f\"MAE : {mean_absolute_error(yTestFlatten, predGRU)}\")\n",
        "print(f\"R2 Score : {r2_score(yTestFlatten, predGRU)}\")"
      ],
      "metadata": {
        "id": "sCcPAkeXbRfJ"
      },
      "execution_count": null,
      "outputs": []
    },
    {
      "cell_type": "code",
      "source": [
        "resultLSTM = {\"SMAPE\":computeSMAPE(yTestFlatten, predLSTM), \"MSE\":mean_squared_error(yTestFlatten, predLSTM), \"MAE\":mean_absolute_error(yTestFlatten, predLSTM), \"R2 Score\":r2_score(yTestFlatten, predLSTM)}\n",
        "resultGRU = {\"SMAPE\":computeSMAPE(yTestFlatten, predGRU), \"MSE\":mean_squared_error(yTestFlatten, predGRU), \"MAE\":mean_absolute_error(yTestFlatten, predGRU), \"R2 Score\":r2_score(yTestFlatten, predGRU)}"
      ],
      "metadata": {
        "id": "DfW7-AG3fOns"
      },
      "execution_count": null,
      "outputs": []
    },
    {
      "cell_type": "code",
      "source": [
        "pd.DataFrame({\"LSTM\":resultLSTM, \"GRU\":resultGRU})"
      ],
      "metadata": {
        "collapsed": true,
        "id": "S6ACRWqnflQv"
      },
      "execution_count": null,
      "outputs": []
    },
    {
      "cell_type": "markdown",
      "source": [
        "## **Trajectory 시각화**"
      ],
      "metadata": {
        "id": "Ol3KaoNWoswR"
      }
    },
    {
      "cell_type": "code",
      "source": [
        "predLSTM, predGRU = modelLSTM.predict(xTest), modelGRU.predict(xTest)"
      ],
      "metadata": {
        "id": "J9UXbExCovNg"
      },
      "execution_count": null,
      "outputs": []
    },
    {
      "cell_type": "code",
      "source": [
        "print(f\"LSTM Prediciton Shape : {predLSTM.shape}\")\n",
        "print(f\"GRU Prediciton Shape : {predGRU.shape}\")"
      ],
      "metadata": {
        "id": "zKdtA_XOo254"
      },
      "execution_count": null,
      "outputs": []
    },
    {
      "cell_type": "code",
      "source": [
        "print(f\"Input Test Dataset Shape : {xTest.shape}\")"
      ],
      "metadata": {
        "id": "xYHbGEL_o9Li"
      },
      "execution_count": null,
      "outputs": []
    },
    {
      "cell_type": "code",
      "source": [
        "targetCoordX, targetCoordY = [], []\n",
        "lstmCoordX, lstmCoordY = [], []\n",
        "gruCoordX, gruCoordY = [], []\n",
        "\n",
        "rowIndex = 2\n",
        "for i in range(8) :\n",
        "  xMin, xMax, yMin, yMax = xTest[rowIndex, 4*i, 0], xTest[rowIndex, 4*i+1, 0], xTest[rowIndex, 4*i+2, 0], xTest[rowIndex, 4*i+3, 0]\n",
        "\n",
        "  targetCoordX.append((xMin+xMax)/2), targetCoordY.append((yMin+yMax)/2)\n",
        "  lstmCoordX.append((xMin+xMax)/2), lstmCoordY.append((yMin+yMax)/2)\n",
        "  gruCoordX.append((xMin+xMax)/2), gruCoordY.append((yMin+yMax)/2)"
      ],
      "metadata": {
        "id": "mxaFmwwypHpo"
      },
      "execution_count": null,
      "outputs": []
    },
    {
      "cell_type": "code",
      "source": [
        "print(targetCoordX)\n",
        "print(targetCoordY)"
      ],
      "metadata": {
        "id": "aDh6UESnptOS"
      },
      "execution_count": null,
      "outputs": []
    },
    {
      "cell_type": "code",
      "source": [
        "yTest.shape"
      ],
      "metadata": {
        "id": "DtJEV8KJqNxh"
      },
      "execution_count": null,
      "outputs": []
    },
    {
      "cell_type": "code",
      "source": [
        "targetCoordX.append(np.mean(yTest[rowIndex,:2])), targetCoordY.append(np.mean(yTest[rowIndex,2:]))"
      ],
      "metadata": {
        "id": "JefWaFYMqJ26"
      },
      "execution_count": null,
      "outputs": []
    },
    {
      "cell_type": "code",
      "source": [
        "print(targetCoordX)\n",
        "print(targetCoordY)"
      ],
      "metadata": {
        "id": "M312LpR0qRjy"
      },
      "execution_count": null,
      "outputs": []
    },
    {
      "cell_type": "code",
      "source": [
        "lstmCoordX.append(np.mean(predLSTM[rowIndex,:2])), lstmCoordY.append(np.mean(predLSTM[rowIndex,2:]))"
      ],
      "metadata": {
        "id": "gJ0Lbg7TqWTD"
      },
      "execution_count": null,
      "outputs": []
    },
    {
      "cell_type": "code",
      "source": [
        "print(lstmCoordX)\n",
        "print(lstmCoordY)"
      ],
      "metadata": {
        "id": "BnGDm6b-qhwg"
      },
      "execution_count": null,
      "outputs": []
    },
    {
      "cell_type": "code",
      "source": [
        "gruCoordX.append(np.mean(predGRU[rowIndex,:2])), gruCoordY.append(np.mean(predGRU[rowIndex,2:]))"
      ],
      "metadata": {
        "id": "nYMBwRT2qeOy"
      },
      "execution_count": null,
      "outputs": []
    },
    {
      "cell_type": "code",
      "source": [
        "print(gruCoordX)\n",
        "print(gruCoordY)"
      ],
      "metadata": {
        "id": "Cjih-SMEqiBm"
      },
      "execution_count": null,
      "outputs": []
    },
    {
      "cell_type": "code",
      "source": [
        "fig = plt.figure(figsize=(10, 5))\n",
        "plt.plot(targetCoordX, targetCoordY, c=\"b\", label=\"Target Trajectory\")\n",
        "plt.plot(lstmCoordX, lstmCoordY, c=\"g\", label=\"LSTM Pred Trajectory\")\n",
        "plt.plot(gruCoordX, gruCoordY, c=\"r\", label=\"GRU Pred Trajectory\")\n",
        "plt.xlabel(\"X-Coordinate\")\n",
        "plt.ylabel(\"Y-Coordinate\")\n",
        "plt.title(\"Trajectory Prediction\")\n",
        "plt.legend(loc=\"best\")\n",
        "plt.show()"
      ],
      "metadata": {
        "id": "BQOmtQMiqmIx"
      },
      "execution_count": null,
      "outputs": []
    },
    {
      "cell_type": "markdown",
      "source": [
        "# **Keras를 활용한 개별 실습**"
      ],
      "metadata": {
        "id": "GnPh3hojcZp3"
      }
    },
    {
      "cell_type": "markdown",
      "source": [
        "## **Scikit-Learn의 preprocessing에서부터 MinMaxScaler 불러온 후 데이터 전처리를 진행하세요**\n",
        "*   [Exercise 03번 참고](https://github.com/jetsonai/LSTMTracking/blob/main/03_Sequential_Data_Analysis/Exercise_03_Sequential_Data_Analysis_with_LSTM.ipynb)\n",
        "\n"
      ],
      "metadata": {
        "id": "Vs_J-xA8dl3Z"
      }
    },
    {
      "cell_type": "code",
      "source": [
        "# 코드를 입력해주세요."
      ],
      "metadata": {
        "id": "MceVE-_scjd4"
      },
      "execution_count": null,
      "outputs": []
    },
    {
      "cell_type": "markdown",
      "source": [
        "## **1-D Convolution 기반 Multi-Layer LSTM 및 GRU 모델을 만드세요**\n",
        "*   LSTM 및 GRU 인자 → return_sequences=True\n",
        "*   Dropout을 추가하여 Overfitting을 방지해보세요\n",
        "\n"
      ],
      "metadata": {
        "id": "FkvavYqVHXxl"
      }
    },
    {
      "cell_type": "code",
      "source": [
        "# LSTM 코드를 입력해주세요."
      ],
      "metadata": {
        "id": "opXAXnWSck3l"
      },
      "execution_count": null,
      "outputs": []
    },
    {
      "cell_type": "code",
      "source": [
        "# GRU 코드를 입력해주세요."
      ],
      "metadata": {
        "id": "sUdh4GfhclHx"
      },
      "execution_count": null,
      "outputs": []
    },
    {
      "cell_type": "markdown",
      "source": [
        "### **1-D Convolution 기반 LSTM 모델 훈련 / 추론 진행**\n"
      ],
      "metadata": {
        "id": "sBkPH8kqc2cn"
      }
    },
    {
      "cell_type": "code",
      "source": [
        "# 모델 컴파일"
      ],
      "metadata": {
        "id": "0QzpXc73cxm6"
      },
      "execution_count": null,
      "outputs": []
    },
    {
      "cell_type": "code",
      "source": [
        "# 모델 훈련"
      ],
      "metadata": {
        "id": "4vpmSLoKdB21"
      },
      "execution_count": null,
      "outputs": []
    },
    {
      "cell_type": "code",
      "source": [
        "# 훈련 과정 시각화"
      ],
      "metadata": {
        "id": "WasVHxSUdJId"
      },
      "execution_count": null,
      "outputs": []
    },
    {
      "cell_type": "code",
      "source": [
        "# 모델 저장"
      ],
      "metadata": {
        "id": "k-6Em09pdCqx"
      },
      "execution_count": null,
      "outputs": []
    },
    {
      "cell_type": "markdown",
      "source": [
        "### **1-D Convolution 기반 GRU 모델 훈련 / 추론 진행**\n"
      ],
      "metadata": {
        "id": "9NtlCaR-dKzk"
      }
    },
    {
      "cell_type": "code",
      "source": [
        "# 모델 컴파일"
      ],
      "metadata": {
        "id": "ctbbo9ANdKzk"
      },
      "execution_count": null,
      "outputs": []
    },
    {
      "cell_type": "code",
      "source": [
        "# 모델 훈련"
      ],
      "metadata": {
        "id": "Pc2fJWk8dKzk"
      },
      "execution_count": null,
      "outputs": []
    },
    {
      "cell_type": "code",
      "source": [
        "# 훈련 과정 시각화"
      ],
      "metadata": {
        "id": "fcOMeOvLdKzk"
      },
      "execution_count": null,
      "outputs": []
    },
    {
      "cell_type": "code",
      "source": [
        "# 모델 저장"
      ],
      "metadata": {
        "id": "Q9O7glqNdKzk"
      },
      "execution_count": null,
      "outputs": []
    },
    {
      "cell_type": "markdown",
      "source": [
        "### **저장된 모델 불러오기**\n"
      ],
      "metadata": {
        "id": "dk5nSeOfdTpF"
      }
    },
    {
      "cell_type": "code",
      "source": [
        "# LSTM 모델 불러오기"
      ],
      "metadata": {
        "id": "ds3vlOqJdTpK"
      },
      "execution_count": null,
      "outputs": []
    },
    {
      "cell_type": "code",
      "source": [
        "# GRU 모델 불러오기"
      ],
      "metadata": {
        "id": "pwN9GLFfdTpK"
      },
      "execution_count": null,
      "outputs": []
    },
    {
      "cell_type": "markdown",
      "source": [
        "### **모델 추론 진행**\n"
      ],
      "metadata": {
        "id": "ehqqnapVdZQi"
      }
    },
    {
      "cell_type": "code",
      "source": [
        "# LSTM 모델 추론"
      ],
      "metadata": {
        "id": "wgdtC2n3dZQj"
      },
      "execution_count": null,
      "outputs": []
    },
    {
      "cell_type": "code",
      "source": [
        "# GRU 모델 추론"
      ],
      "metadata": {
        "id": "8DiBtcMLdZQj"
      },
      "execution_count": null,
      "outputs": []
    },
    {
      "cell_type": "markdown",
      "source": [
        "### **Metric 계산**\n"
      ],
      "metadata": {
        "id": "gzjJEfEtdejh"
      }
    },
    {
      "cell_type": "code",
      "source": [
        "# LSTM 모델 Metric 계산"
      ],
      "metadata": {
        "id": "3O0DhjOXdejh"
      },
      "execution_count": null,
      "outputs": []
    },
    {
      "cell_type": "code",
      "source": [
        "# GRU 모델 Metric 계산"
      ],
      "metadata": {
        "id": "DXPLbdMZdejh"
      },
      "execution_count": null,
      "outputs": []
    },
    {
      "cell_type": "markdown",
      "source": [
        "### **Trajectory 시각화**\n"
      ],
      "metadata": {
        "id": "DE5jHU1Tqt9M"
      }
    },
    {
      "cell_type": "markdown",
      "source": [
        "#### **Inverse Transformation을 진행하고 시각화를 진행하세요**"
      ],
      "metadata": {
        "id": "X_POadCz4O3C"
      }
    },
    {
      "cell_type": "code",
      "source": [
        "# 모든 방법의 Trajectory 시각화"
      ],
      "metadata": {
        "id": "7po_xjEsqt9R"
      },
      "execution_count": null,
      "outputs": []
    }
  ]
}