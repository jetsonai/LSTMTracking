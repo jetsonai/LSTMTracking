{
  "metadata": {
    "kernelspec": {
      "display_name": "Python 3",
      "name": "python3"
    },
    "language_info": {
      "pygments_lexer": "ipython3",
      "nbconvert_exporter": "python",
      "version": "3.6.4",
      "file_extension": ".py",
      "codemirror_mode": {
        "name": "ipython",
        "version": 3
      },
      "name": "python",
      "mimetype": "text/x-python"
    },
    "kaggle": {
      "accelerator": "gpu",
      "dataSources": [
        {
          "sourceId": 18599,
          "databundleVersionId": 1236839,
          "sourceType": "competition"
        }
      ],
      "dockerImageVersionId": 29869,
      "isInternetEnabled": true,
      "language": "python",
      "sourceType": "notebook",
      "isGpuEnabled": true
    },
    "colab": {
      "provenance": [],
      "gpuType": "T4"
    },
    "accelerator": "GPU"
  },
  "nbformat_minor": 0,
  "nbformat": 4,
  "cells": [
    {
      "cell_type": "markdown",
      "source": [
        "# **PyTorch를 활용한 Trajectory Prediction**"
      ],
      "metadata": {
        "id": "OD_LDLFBsdFg"
      }
    },
    {
      "cell_type": "markdown",
      "source": [
        "## **Google Drive Mount 하기**"
      ],
      "metadata": {
        "id": "5o-HKa2J9x1j"
      }
    },
    {
      "cell_type": "code",
      "execution_count": null,
      "metadata": {
        "id": "pIlgyXK082-y"
      },
      "outputs": [],
      "source": [
        "from google.colab import drive\n",
        "\n",
        "drive.mount(\"/content/gdrive\")"
      ]
    },
    {
      "cell_type": "markdown",
      "source": [
        "## **데이터 처리를 위한 라이브러리 불러오기**"
      ],
      "metadata": {
        "id": "Gf9796K2MeDC"
      }
    },
    {
      "cell_type": "code",
      "source": [
        "import random"
      ],
      "metadata": {
        "id": "KipSXiPBOF28"
      },
      "execution_count": 2,
      "outputs": []
    },
    {
      "cell_type": "code",
      "source": [
        "from io import open\n",
        "from os import path\n",
        "import pickle"
      ],
      "metadata": {
        "id": "ySh9yEaNOAqV"
      },
      "execution_count": 3,
      "outputs": []
    },
    {
      "cell_type": "code",
      "source": [
        "import numpy as np\n",
        "import scipy\n",
        "import pandas as pd\n",
        "import matplotlib.pyplot as plt"
      ],
      "metadata": {
        "id": "Wfx-_yjBMhrI"
      },
      "execution_count": 4,
      "outputs": []
    },
    {
      "cell_type": "code",
      "source": [
        "from tqdm import tqdm"
      ],
      "metadata": {
        "id": "uIELdPfCOOay"
      },
      "execution_count": 5,
      "outputs": []
    },
    {
      "cell_type": "markdown",
      "source": [
        "## **PyTorch 라이브러리 불러오기**"
      ],
      "metadata": {
        "id": "Jnmaa4zqokV4"
      }
    },
    {
      "cell_type": "code",
      "execution_count": 6,
      "metadata": {
        "id": "ToOO3xFnna5x"
      },
      "outputs": [],
      "source": [
        "import torch\n",
        "from torch import nn\n",
        "from torch.utils.data import Dataset, DataLoader"
      ]
    },
    {
      "cell_type": "markdown",
      "source": [
        "## **데이터셋 불러오기**"
      ],
      "metadata": {
        "id": "Bj80h1S3wnta"
      }
    },
    {
      "cell_type": "code",
      "source": [
        "!unzip \"/content/gdrive/MyDrive/LSTMTracking/dataset/trajectory-prediction.zip\""
      ],
      "metadata": {
        "id": "3phyWEqoxAsY",
        "collapsed": true
      },
      "execution_count": null,
      "outputs": []
    },
    {
      "cell_type": "markdown",
      "source": [
        "## **데이터셋 살펴보기**"
      ],
      "metadata": {
        "id": "S81xJHOqPDoV"
      }
    },
    {
      "cell_type": "code",
      "source": [
        "df = pd.read_csv(\"/content/WholeVdata2.csv\")"
      ],
      "metadata": {
        "id": "PgG-p4cIPFUF"
      },
      "execution_count": 8,
      "outputs": []
    },
    {
      "cell_type": "code",
      "source": [
        "df.info()"
      ],
      "metadata": {
        "id": "tHmkxrjMPIqX"
      },
      "execution_count": null,
      "outputs": []
    },
    {
      "cell_type": "code",
      "source": [
        "df.describe()"
      ],
      "metadata": {
        "id": "vjz1z0GJPL3n"
      },
      "execution_count": null,
      "outputs": []
    },
    {
      "cell_type": "code",
      "source": [
        "df.head(10)"
      ],
      "metadata": {
        "id": "EDx9IEBXPRE8"
      },
      "execution_count": null,
      "outputs": []
    },
    {
      "cell_type": "markdown",
      "source": [
        "## **PyTorch DataLoader 클래스 정의**"
      ],
      "metadata": {
        "id": "xokzR91AOVrQ"
      }
    },
    {
      "cell_type": "code",
      "source": [
        "class TrajectoryDataset(Dataset) :\n",
        "    def __init__(self, csvPath=\"/content/WholeVdata2.csv\") :\n",
        "        # Inheritance\n",
        "        super(TrajectoryDataset, self).__init__()\n",
        "\n",
        "        # Initialize Variable\n",
        "        self.csvPath = csvPath\n",
        "\n",
        "        # store X as a list, each element is a 100*42(len*# attributes) np array [velx; velY; x; y; acc; angle]*7\n",
        "        # store Y as a list, each element is a 100*4(len*# attributes) np array[velx; velY; x; y]\n",
        "        self.framesX, self.framesY = [], []\n",
        "\n",
        "        # Function-Calling\n",
        "        self.loadData()\n",
        "        self.normalizeData()\n",
        "\n",
        "    def __len__(self) :\n",
        "        return len(self.framesX)\n",
        "\n",
        "    def __getitem__(self, index) :\n",
        "        singleData = self.framesX[index]\n",
        "        singleLabel = self.framesY[index]\n",
        "\n",
        "        return (singleData, singleLabel)\n",
        "\n",
        "    def loadData(self) :\n",
        "        dataS = pd.read_csv(self.csvPath)\n",
        "        maxVehicleNum = np.max(dataS.Vehicle_ID.unique())\n",
        "        for vid in dataS.Vehicle_ID.unique() :\n",
        "            print(f\"{vid} and {maxVehicleNum}\")\n",
        "            frameOri = dataS[dataS.Vehicle_ID == vid]\n",
        "            frame = frameOri[[\"Local_X\", \"Local_Y\", \"v_Acc\", \"Angle\",\n",
        "                              \"L_rX\", \"L_rY\", \"L_rAcc\", \"L_angle\",\n",
        "                              \"F_rX\", \"F_rY\", \"F_rAcc\", \"F_angle\",\n",
        "                              \"LL_rX\", \"LL_rY\", \"LL_rAcc\", \"LL_angle\",\n",
        "                              \"LF_rX\", \"LF_rY\", \"LF_rAcc\", \"LF_angle\",\n",
        "                              \"RL_rX\", \"RL_rY\", \"RL_rAcc\", \"RL_angle\",\n",
        "                              \"RF_rX\", \"RF_rY\", \"RF_rAcc\", \"RF_angle\"]]\n",
        "            frame = np.asarray(frame)\n",
        "            frame[np.where(frame > 4000)] = 0 # assign all 5000 to 0\n",
        "\n",
        "            # remove anomalies, which has a discontinuious local x or local y\n",
        "            dis = frame[1:,:2] - frame[:-1,:2]\n",
        "            dis = np.sqrt(np.power(dis[:,0],2)+np.power(dis[:,1],2))\n",
        "\n",
        "            index = np.where(dis > 10)\n",
        "            if not (index[0].all) :\n",
        "                continue\n",
        "\n",
        "            # smooth the data column wise\n",
        "            # window size = 5, polynomial order = 3\n",
        "            frame =  scipy.signal.savgol_filter(frame, window_length=5, polyorder=3, axis=0)\n",
        "\n",
        "            # calculate velX and velY according to localX and localY for all vehicles\n",
        "            allVehicles = []\n",
        "\n",
        "            for i in range(7) :\n",
        "                velX = (frame[1:,0+i*4]-frame[:-1, 0+i*4])/0.1\n",
        "                velAvgX = (velX[1:]+velX[:-1])/2.0\n",
        "                velX1 = [2.0*velX[0]- velAvgX[0]]\n",
        "                velEndX = [2.0*velX[-1]- velAvgX[-1]];\n",
        "                velX = np.array(velX1 + velAvgX.tolist() + velEndX)\n",
        "\n",
        "                velY = (frame[1:,1+i*4]-frame[:-1, 1+i*4])/0.1\n",
        "                velAvgY = (velY[1:]+velY[:-1])/2.0\n",
        "                velY1 = [2.0*velY[0]- velAvgY[0]]\n",
        "                velEndY = [2.0*velY[-1]-velAvgY[-1]]\n",
        "                velY = np.array(velY1 + velAvgY.tolist() + velEndY)\n",
        "\n",
        "                if isinstance(allVehicles,(list)) :\n",
        "                    allVehicles = np.vstack((velX, velY))\n",
        "                else:\n",
        "                    allVehicles = np.vstack((allVehicles, velX.reshape(1,-1)))\n",
        "                    allVehicles = np.vstack((allVehicles, velY.reshape(1,-1)))\n",
        "\n",
        "            allVehicles = np.transpose(allVehicles)\n",
        "            totalFrameData = np.concatenate((allVehicles[:,:2], frame), axis=1)\n",
        "\n",
        "            # split into several frames each frame have a total length of 100, drop sequence smaller than 130\n",
        "            if totalFrameData.shape[0] < 130 :\n",
        "                continue\n",
        "\n",
        "            X = totalFrameData[:-29,:]\n",
        "            Y = totalFrameData[29:,:4]\n",
        "\n",
        "            count = 0\n",
        "            for i in range(X.shape[0]-100) :\n",
        "                if random.random() > 0.2 :\n",
        "                    continue\n",
        "\n",
        "                if count>20:\n",
        "                    break\n",
        "\n",
        "                self.framesX = self.framesX + [X[i:i+100,:]]\n",
        "                self.framesY = self.framesY + [Y[i:i+100,:]]\n",
        "\n",
        "                count += 1\n",
        "\n",
        "    def normalizeData(self) :\n",
        "        A = [list(x) for x in zip(*(self.framesX))]\n",
        "        A = torch.tensor(A, dtype=torch.float32)\n",
        "        A = A.view(-1, A.shape[2])\n",
        "        print(\"A:\", A.shape)\n",
        "\n",
        "        self.mn = torch.mean(A, dim=0)\n",
        "        self.range = (torch.max(A, dim=0).values - torch.min(A, dim=0).values)/2.0\n",
        "        self.range = torch.ones(self.range.shape, dtype=torch.float32)\n",
        "        self.std = torch.std(A,dim=0)\n",
        "        self.framesX = [(torch.tensor(item, dtype=torch.float32)-self.mn)/(self.std*self.range) for item in self.framesX]\n",
        "        self.framesY = [(torch.tensor(item, dtype=torch.float32)-self.mn[:4])/(self.std[:4]*self.range[:4]) for item in self.framesY]"
      ],
      "metadata": {
        "id": "Zu67m8QrOSHK"
      },
      "execution_count": 12,
      "outputs": []
    },
    {
      "cell_type": "code",
      "source": [
        "def getDataLoader(opt, csvPath) :\n",
        "    \"\"\"\n",
        "    return torch.util.data.Dataloader for train, valid and test\n",
        "    \"\"\"\n",
        "    # load dataset\n",
        "    dataset = TrajectoryDataset()\n",
        "    with open(\"Dataset.pickle\", \"wb\") as output :\n",
        "        pickle.dump(dataset, output)\n",
        "\n",
        "    # split dataset into train test and valid 7:2:1\n",
        "    numTrain = int(dataset.__len__()*0.7)\n",
        "    numTest = int(dataset.__len__()*0.9) - numTrain\n",
        "    numValid = int(dataset.__len__() - numTest - numTrain)\n",
        "    train, valid, test = torch.utils.data.random_split(dataset, [numTrain, numValid, numTest])\n",
        "\n",
        "    # create dataloader instance\n",
        "    trainDataLoader = DataLoader(train, batch_size=opt[\"batchSize\"], shuffle=True, drop_last=True)\n",
        "    validDataLoader = DataLoader(valid, batch_size=opt[\"batchSize\"], shuffle=False, drop_last=False)\n",
        "    testDataLoader = DataLoader(test, batch_size=opt[\"batchSize\"], shuffle=False, drop_last=False)\n",
        "\n",
        "    return trainDataLoader, validDataLoader, testDataLoader, dataset"
      ],
      "metadata": {
        "id": "vspmiUfYSI7B"
      },
      "execution_count": 13,
      "outputs": []
    },
    {
      "cell_type": "markdown",
      "source": [
        "## **Trajectory LSTM Model 클래스 정의**"
      ],
      "metadata": {
        "id": "Qy34HugSWRAk"
      }
    },
    {
      "cell_type": "code",
      "source": [
        "class TrajectoryLSTM(nn.Module) :\n",
        "    def __init__(self, inputSize, outputSize, hiddenSize, numLayer, p) :\n",
        "        # Inheritance\n",
        "        super(TrajectoryLSTM, self).__init__()\n",
        "\n",
        "        # Create LSTM Layer Instance\n",
        "        self.lstm = nn.LSTM(hiddenSize, hiddenSize, num_layers=numLayer, bidirectional=False, batch_first=True, dropout=p)\n",
        "        self.bilstm = nn.LSTM(hiddenSize, hiddenSize//2, num_layers=numLayer, bidirectional=True, batch_first=True, dropout=p)\n",
        "\n",
        "        # Create FC Layer Instance\n",
        "        self.input2lstm = nn.Linear(inputSize, hiddenSize)\n",
        "        self.input2bilstm = nn.Linear(inputSize, hiddenSize)\n",
        "        self.fc0 = nn.Linear(hiddenSize, 128)\n",
        "        self.fc1 = nn.Linear(128, 64)\n",
        "        self.fc2 = nn.Linear(64, outputSize)\n",
        "        self.input2output = nn.Linear(inputSize, 64)\n",
        "\n",
        "        # Create Activation Layer Instance\n",
        "        self.act = nn.Tanh()\n",
        "\n",
        "    def forward(self, input) :\n",
        "        lstmOutput, _ = self.lstm(self.input2lstm(input))\n",
        "        bilstmOutput, _ = self.bilstm(self.input2bilstm(input))\n",
        "\n",
        "        output = self.act(self.fc0(lstmOutput + bilstmOutput))\n",
        "        output = self.act(self.fc1(output)) + self.input2output(input)\n",
        "        output = self.fc2(output)\n",
        "\n",
        "        return output"
      ],
      "metadata": {
        "id": "gDpCAvdpTqSz"
      },
      "execution_count": 14,
      "outputs": []
    },
    {
      "cell_type": "markdown",
      "source": [
        "## **훈련 및 모델 하이퍼파라미터 선정**"
      ],
      "metadata": {
        "id": "Wam4_wUMpm-u"
      }
    },
    {
      "cell_type": "code",
      "source": [
        "opt = {\"inputSize\":30, \"outputSize\":4, \"hiddenSize\":256, \"numLayer\":5, \"p\":0.1,\n",
        "       \"batchSize\":128, \"numEpoch\":100, \"lr\":1e-3, \"seed\":42}"
      ],
      "metadata": {
        "id": "aVZ4xPiEpsRb"
      },
      "execution_count": 15,
      "outputs": []
    },
    {
      "cell_type": "markdown",
      "source": [
        "## **Seed 고정**"
      ],
      "metadata": {
        "id": "O9Oo8RG1OG-H"
      }
    },
    {
      "cell_type": "code",
      "source": [
        "import random\n",
        "import numpy as np"
      ],
      "metadata": {
        "id": "pwBQCHkrOIez"
      },
      "execution_count": 16,
      "outputs": []
    },
    {
      "cell_type": "code",
      "source": [
        "def fixSeed(seed) :\n",
        "  random.seed(seed)\n",
        "  np.random.seed(seed)\n",
        "  torch.manual_seed(seed)\n",
        "  torch.cuda.manual_seed(seed)\n",
        "  torch.cuda.manual_seed_all(seed)\n",
        "  torch.backends.cudnn.deterministic = True\n",
        "  torch.backends.cudnn.benchmark = False"
      ],
      "metadata": {
        "id": "uXxYOkYOOZvP"
      },
      "execution_count": 17,
      "outputs": []
    },
    {
      "cell_type": "markdown",
      "source": [
        "## **훈련 과정 요약을 위한 Average Meter 인스턴스 생성**"
      ],
      "metadata": {
        "id": "tEoLg6GYSp1Y"
      }
    },
    {
      "cell_type": "code",
      "source": [
        "class AverageMeter(object) :\n",
        "  def __init__(self) :\n",
        "    self.reset()\n",
        "\n",
        "  def reset(self) :\n",
        "    self.val = 0\n",
        "    self.avg = 0\n",
        "    self.sum = 0\n",
        "    self.count = 0\n",
        "\n",
        "  def update(self, val, n=1) :\n",
        "    self.val = val\n",
        "    self.sum += val*n\n",
        "    self.count += n\n",
        "    self.avg = self.sum / self.count"
      ],
      "metadata": {
        "id": "6RdmSTR8SrFh"
      },
      "execution_count": 18,
      "outputs": []
    },
    {
      "cell_type": "markdown",
      "source": [
        "## **Trajectory LSTM 모델 훈련**"
      ],
      "metadata": {
        "id": "67RTXRutM_cl"
      }
    },
    {
      "cell_type": "markdown",
      "source": [
        "### **사용 Device 정하기 (GPU 또는 CPU)**"
      ],
      "metadata": {
        "id": "FCclzRVYovLo"
      }
    },
    {
      "cell_type": "code",
      "source": [
        "device = torch.device(\"cuda\" if torch.cuda.is_available() else \"cpu\")"
      ],
      "metadata": {
        "id": "kTdQNN6posAg"
      },
      "execution_count": 19,
      "outputs": []
    },
    {
      "cell_type": "code",
      "source": [
        "print(f\"Device Type : {device}\")"
      ],
      "metadata": {
        "id": "RkD1lzJro0ih"
      },
      "execution_count": null,
      "outputs": []
    },
    {
      "cell_type": "markdown",
      "source": [
        "### **DataLoader 인스턴스 생성**"
      ],
      "metadata": {
        "id": "84E3RWjcS2cN"
      }
    },
    {
      "cell_type": "code",
      "source": [
        "trainDataLoader, validDataLoader, testDataLoader, dataset = getDataLoader(opt, \"/content/WholeVdata2.csv\")"
      ],
      "metadata": {
        "id": "EBy-aY4uS2Fj"
      },
      "execution_count": null,
      "outputs": []
    },
    {
      "cell_type": "markdown",
      "source": [
        "### **Trajectory LSTM 모델 인스턴스 생성**"
      ],
      "metadata": {
        "id": "YyN6pZV5M_cl"
      }
    },
    {
      "cell_type": "code",
      "source": [
        "fixSeed(opt[\"seed\"])"
      ],
      "metadata": {
        "id": "YeW0uJMJVyVz"
      },
      "execution_count": 22,
      "outputs": []
    },
    {
      "cell_type": "code",
      "source": [
        "model = TrajectoryLSTM(opt[\"inputSize\"], opt[\"outputSize\"], opt[\"hiddenSize\"], opt[\"numLayer\"], opt[\"p\"]).to(device)"
      ],
      "metadata": {
        "id": "u3TiYa_PM_cl"
      },
      "execution_count": 23,
      "outputs": []
    },
    {
      "cell_type": "markdown",
      "source": [
        "### **Trajectory LSTM 모델 파라미터 개수 계산**"
      ],
      "metadata": {
        "id": "8Xs662LSZt_K"
      }
    },
    {
      "cell_type": "code",
      "source": [
        "numParameter = sum(p.numel() for p in model.parameters() if p.requires_grad)"
      ],
      "metadata": {
        "id": "tUKtw-vCZwaz"
      },
      "execution_count": 24,
      "outputs": []
    },
    {
      "cell_type": "code",
      "source": [
        "print(f\"Number of Trainable Parameters : {numParameter:,}\")"
      ],
      "metadata": {
        "id": "PrJ3KG1-Z02w"
      },
      "execution_count": null,
      "outputs": []
    },
    {
      "cell_type": "markdown",
      "source": [
        "### **손실 함수 인스턴스 생성**"
      ],
      "metadata": {
        "id": "uM3SkwAWM_cl"
      }
    },
    {
      "cell_type": "code",
      "source": [
        "criterion = nn.MSELoss()"
      ],
      "metadata": {
        "id": "KcKBayOxM_cl"
      },
      "execution_count": 26,
      "outputs": []
    },
    {
      "cell_type": "markdown",
      "source": [
        "### **Optimizer 인스턴스 생성**"
      ],
      "metadata": {
        "id": "h0KgGsi-M_cl"
      }
    },
    {
      "cell_type": "code",
      "source": [
        "optimizer = torch.optim.Adam(model.parameters(), lr=opt[\"lr\"])"
      ],
      "metadata": {
        "id": "-bRH6uWLM_cl"
      },
      "execution_count": 27,
      "outputs": []
    },
    {
      "cell_type": "markdown",
      "source": [
        "### **훈련 결과 저장을 위한 AverageMeter 인스턴스 생성**"
      ],
      "metadata": {
        "id": "nMcHAiSvfclF"
      }
    },
    {
      "cell_type": "code",
      "source": [
        "trainLoss, validLoss = AverageMeter(), AverageMeter()"
      ],
      "metadata": {
        "id": "ZbrNqS0dSruq"
      },
      "execution_count": 28,
      "outputs": []
    },
    {
      "cell_type": "markdown",
      "source": [
        "### **훈련 결과 저장을 위한 Python List 인스턴스 생성**"
      ],
      "metadata": {
        "id": "97OOUWV2S3rj"
      }
    },
    {
      "cell_type": "code",
      "source": [
        "trainLossList, validLossList = [], []"
      ],
      "metadata": {
        "id": "UXziUEolS3a-"
      },
      "execution_count": 29,
      "outputs": []
    },
    {
      "cell_type": "code",
      "source": [
        "bestValidLoss = torch.inf"
      ],
      "metadata": {
        "id": "9E8Gbl3IfWPb"
      },
      "execution_count": 30,
      "outputs": []
    },
    {
      "cell_type": "markdown",
      "source": [
        "### **훈련 진행**"
      ],
      "metadata": {
        "id": "BpbGma7geQuA"
      }
    },
    {
      "cell_type": "code",
      "source": [
        "for epoch in range(1, opt[\"numEpoch\"]+1) :\n",
        "  ########################################################################################################################################\n",
        "\n",
        "    trainBar = tqdm(trainDataLoader) # Create TQDM Instance\n",
        "    trainLoss.reset() # Reset AverageMeter Instance\n",
        "\n",
        "    model.train() # Train Mode\n",
        "\n",
        "    for data in trainBar :\n",
        "      input, target = data # Unpack Tuple Elements\n",
        "      input, target = input.to(device), target.to(device) # Assign Device\n",
        "      optimizer.zero_grad() # Set Gradient to 0\n",
        "      pred = model(input) # Get Prediction\n",
        "      loss = criterion(pred[:,-30:,2:4], target[:,-30:,2:4]) # Compute Loss\n",
        "      loss.backward() # Back-Propagation\n",
        "      optimizer.step() # Update Weight\n",
        "\n",
        "      trainLoss.update(loss.detach().cpu().item(), opt[\"batchSize\"]) # Compute Averaged Loss\n",
        "      trainBar.set_description(desc=f\"[{epoch}/{opt['numEpoch']}] [Train] < Loss:{trainLoss.avg:.4f} >\")\n",
        "\n",
        "    trainLossList.append(trainLoss.avg)\n",
        "\n",
        "    ########################################################################################################################################\n",
        "\n",
        "    validBar = tqdm(validDataLoader) # Create TQDM Instance\n",
        "    validLoss.reset() # Reset AverageMeter Instance\n",
        "\n",
        "    model.eval() # Evaulation Mode\n",
        "\n",
        "    for data in validBar :\n",
        "      input, target = data # Unpack Tuple Elements\n",
        "      input, target = input.to(device), target.to(device) # Assign Device\n",
        "\n",
        "      with torch.no_grad() :\n",
        "        pred = model(input) # Get Prediction\n",
        "        loss = criterion(pred[:,-30:,2:4], target[:,-30:,2:4]) # Compute Loss\n",
        "\n",
        "        validLoss.update(loss.detach().cpu().item(), opt[\"batchSize\"]) # Compute Averaged Loss\n",
        "        validBar.set_description(desc=f\"[{epoch}/{opt['numEpoch']}] [Valid] < Loss:{validLoss.avg:.4f} >\")\n",
        "\n",
        "    validLossList.append(validLoss.avg)\n",
        "\n",
        "    if validLoss.avg < bestValidLoss :\n",
        "      bestValidLoss = validLoss.avg\n",
        "      torch.save(model.state_dict(), \"Best-LSTM.pth\")\n",
        "\n",
        "    torch.save(model.state_dict(), \"Latest-LSTM.pth\")"
      ],
      "metadata": {
        "id": "fEta2llWePQx",
        "collapsed": true
      },
      "execution_count": null,
      "outputs": []
    },
    {
      "cell_type": "code",
      "source": [
        "print(f\"Best Valid Loss : {bestValidLoss:.4f}\")"
      ],
      "metadata": {
        "id": "1LB5fkB6ZYlx"
      },
      "execution_count": null,
      "outputs": []
    },
    {
      "cell_type": "markdown",
      "source": [
        "## **Trajectory LSTM 모델 훈련 과정 시각화**"
      ],
      "metadata": {
        "id": "Ppj6oqU5bO3m"
      }
    },
    {
      "cell_type": "code",
      "source": [
        "plt.plot(np.arange(opt[\"numEpoch\"]), trainLossList, label=\"Train Loss\")\n",
        "plt.plot(np.arange(opt[\"numEpoch\"]), validLossList, label=\"Valid Loss\")\n",
        "plt.legend(loc=\"best\")\n",
        "plt.xlabel(\"Epoch\")\n",
        "plt.ylabel(\"MSE Loss\")\n",
        "plt.title(\"[Trajectory] Train Loss vs. Valid Loss\")\n",
        "plt.show()"
      ],
      "metadata": {
        "id": "JVC7TiX0bW-R"
      },
      "execution_count": null,
      "outputs": []
    },
    {
      "cell_type": "markdown",
      "source": [
        "## **Trajectory LSTM 모델 추론**"
      ],
      "metadata": {
        "id": "wPYQzuSMmfIo"
      }
    },
    {
      "cell_type": "markdown",
      "source": [
        "### **Best Model 불러오기**"
      ],
      "metadata": {
        "id": "iJEQnWCh1eks"
      }
    },
    {
      "cell_type": "code",
      "source": [
        "weights = torch.load(\"/content/Best-LSTM.pth\")\n",
        "model.load_state_dict(weights, strict=True)"
      ],
      "metadata": {
        "id": "V3Vd3gBI1La1"
      },
      "execution_count": null,
      "outputs": []
    },
    {
      "cell_type": "markdown",
      "source": [
        "### **전처리에 사용한 통계값 불러오기**"
      ],
      "metadata": {
        "id": "oZlism3i4snR"
      }
    },
    {
      "cell_type": "code",
      "source": [
        "std = dataset.std[:4].to(device)\n",
        "mn = dataset.mn[:4].to(device)\n",
        "rg = dataset.range[:4].to(device)"
      ],
      "metadata": {
        "id": "YZXEV23u37EU"
      },
      "execution_count": null,
      "outputs": []
    },
    {
      "cell_type": "markdown",
      "source": [
        "### **Trajectory Model 추론 진행**"
      ],
      "metadata": {
        "id": "1BML49xMBJuW"
      }
    },
    {
      "cell_type": "code",
      "source": [
        "predList, targetList = [], []"
      ],
      "metadata": {
        "id": "LWcGRK5X6jj5"
      },
      "execution_count": null,
      "outputs": []
    },
    {
      "cell_type": "code",
      "source": [
        "testBar = tqdm(testDataLoader) # Create TQDM Instance\n",
        "\n",
        "model.eval() # Evaulation Mode\n",
        "\n",
        "for data in testBar :\n",
        "    input, target = data # Unpack Tuple Elements\n",
        "    input, target = input.to(device), target.to(device) # Assign Device\n",
        "\n",
        "    with torch.no_grad() :\n",
        "      pred = model(input)\n",
        "      pred = (pred*(rg*std) + mn).detach().cpu().numpy()\n",
        "      pred = scipy.signal.savgol_filter(pred, window_length=5, polyorder=2,axis=1)\n",
        "\n",
        "      target = (target*(rg*std)+mn).detach().cpu().numpy()\n",
        "      pred[:,:-30,:] = target[:,:-30,:]\n",
        "\n",
        "      predList.append(pred)\n",
        "      targetList.append(target)"
      ],
      "metadata": {
        "id": "iF0zozI_1jnp"
      },
      "execution_count": null,
      "outputs": []
    },
    {
      "cell_type": "markdown",
      "source": [
        "### **추론 (예측) 결과 시각화**"
      ],
      "metadata": {
        "id": "383rRCXA6zqG"
      }
    },
    {
      "cell_type": "code",
      "source": [
        "plt.figure(figsize=(10, 5))\n",
        "\n",
        "index = 0\n",
        "plt.plot(predList[0][index,:,2], predList[0][index,:,3], \"r\", label=\"Prediction\")\n",
        "plt.plot(targetList[0][index,:,2], targetList[0][index,:,3], \"g\", label=\"Ground-Truth\")\n",
        "plt.xlabel(\"Local X Coordinate\")\n",
        "plt.ylabel(\"Local Y Coordinate\")\n",
        "plt.title(\"Trajectory Prediction\")\n",
        "plt.legend(loc=\"best\")\n",
        "plt.show()"
      ],
      "metadata": {
        "id": "GiZxRdpa62Is"
      },
      "execution_count": null,
      "outputs": []
    },
    {
      "cell_type": "markdown",
      "source": [
        "## **Trajectory LSTM 모델 구조를 바꾸어 가면서 성능을 올려보세요**"
      ],
      "metadata": {
        "id": "FkvavYqVHXxl"
      }
    },
    {
      "cell_type": "code",
      "source": [
        "# Option Dictionary 입력"
      ],
      "metadata": {
        "id": "1PtCuljmHa65"
      },
      "execution_count": null,
      "outputs": []
    },
    {
      "cell_type": "markdown",
      "source": [
        "### **Trajectory LSTM Model 클래스 정의**"
      ],
      "metadata": {
        "id": "qlchxL9WAst8"
      }
    },
    {
      "cell_type": "code",
      "source": [
        "# 모델 구조 설계"
      ],
      "metadata": {
        "id": "LlU1P160AsuB"
      },
      "execution_count": null,
      "outputs": []
    },
    {
      "cell_type": "markdown",
      "source": [
        "### **Trajectory LSTM 모델 훈련 (MSE)**"
      ],
      "metadata": {
        "id": "s5dJzZTaHirG"
      }
    },
    {
      "cell_type": "markdown",
      "source": [
        "#### **LSTM 모델 인스턴스 생성**"
      ],
      "metadata": {
        "id": "KRkEHpjeHirK"
      }
    },
    {
      "cell_type": "code",
      "source": [
        "# 시드 고정"
      ],
      "metadata": {
        "id": "1NmO94mrHirK"
      },
      "execution_count": null,
      "outputs": []
    },
    {
      "cell_type": "code",
      "source": [
        "# 모델 인스턴스 생성"
      ],
      "metadata": {
        "id": "lzXplU_IHirK"
      },
      "execution_count": null,
      "outputs": []
    },
    {
      "cell_type": "markdown",
      "source": [
        "#### **LSTM 모델 파라미터 개수 계산**"
      ],
      "metadata": {
        "id": "yDkkWyd3HirK"
      }
    },
    {
      "cell_type": "code",
      "source": [
        "# 모델 파라미터 계산"
      ],
      "metadata": {
        "id": "nnPIGgovHirK"
      },
      "execution_count": null,
      "outputs": []
    },
    {
      "cell_type": "code",
      "source": [
        "# 모델 파라미터 개수 출력"
      ],
      "metadata": {
        "id": "7ASjsQL0HirK"
      },
      "execution_count": null,
      "outputs": []
    },
    {
      "cell_type": "markdown",
      "source": [
        "#### **손실 함수 인스턴스 생성**"
      ],
      "metadata": {
        "id": "aS-_6SJUHirK"
      }
    },
    {
      "cell_type": "code",
      "source": [
        "# MSE 손실 함수 인스턴스 생성"
      ],
      "metadata": {
        "id": "-VuUzE3yHirK"
      },
      "execution_count": null,
      "outputs": []
    },
    {
      "cell_type": "markdown",
      "source": [
        "#### **Optimizer 인스턴스 생성**"
      ],
      "metadata": {
        "id": "Sb1n677zHirK"
      }
    },
    {
      "cell_type": "code",
      "source": [
        "# Adam Optimizer 인스턴스 생성"
      ],
      "metadata": {
        "id": "T5_VhnaXHirK"
      },
      "execution_count": null,
      "outputs": []
    },
    {
      "cell_type": "markdown",
      "source": [
        "#### **훈련 진행**"
      ],
      "metadata": {
        "id": "Mmi10N2DHirK"
      }
    },
    {
      "cell_type": "code",
      "source": [
        "# 모델 훈련 코드 작성"
      ],
      "metadata": {
        "id": "VbkgMWC5HirK"
      },
      "execution_count": null,
      "outputs": []
    },
    {
      "cell_type": "markdown",
      "source": [
        "### **Trajectory LSTM 모델 훈련 과정 시각화**"
      ],
      "metadata": {
        "id": "q4sOfcC6HirL"
      }
    },
    {
      "cell_type": "code",
      "source": [
        "# 훈련 과정 시각화 코드 작성"
      ],
      "metadata": {
        "id": "8RsqqwWjHirL"
      },
      "execution_count": null,
      "outputs": []
    },
    {
      "cell_type": "markdown",
      "source": [
        "### **모델 성능 평가**"
      ],
      "metadata": {
        "id": "FcG8Y9NKHirL"
      }
    },
    {
      "cell_type": "markdown",
      "source": [
        "#### **Best Model 불러오기**"
      ],
      "metadata": {
        "id": "eL_eMLxyBDtG"
      }
    },
    {
      "cell_type": "code",
      "source": [
        "# Best Model 불러오기"
      ],
      "metadata": {
        "id": "ZYwhlPCbBDtG"
      },
      "execution_count": null,
      "outputs": []
    },
    {
      "cell_type": "markdown",
      "source": [
        "#### **전처리에 사용한 통계값 불러오기**"
      ],
      "metadata": {
        "id": "qGSlG_YtBDtH"
      }
    },
    {
      "cell_type": "code",
      "source": [
        "# 통계값 계산"
      ],
      "metadata": {
        "id": "YfRhnuHIBDtH"
      },
      "execution_count": null,
      "outputs": []
    },
    {
      "cell_type": "markdown",
      "source": [
        "#### **Trajectory Model 추론 진행**"
      ],
      "metadata": {
        "id": "-o3Ee7EdBP-c"
      }
    },
    {
      "cell_type": "code",
      "source": [
        "# List 인스턴스 생성"
      ],
      "metadata": {
        "id": "f_Scl90gBDtH"
      },
      "execution_count": null,
      "outputs": []
    },
    {
      "cell_type": "code",
      "source": [
        "# 모델 추론 진행"
      ],
      "metadata": {
        "id": "n0LCcYrSBDtH"
      },
      "execution_count": null,
      "outputs": []
    },
    {
      "cell_type": "markdown",
      "source": [
        "#### **추론 (예측) 결과 시각화**"
      ],
      "metadata": {
        "id": "Yzm1V9y9BDtH"
      }
    },
    {
      "cell_type": "code",
      "source": [
        "# 예측 결과 시각화"
      ],
      "metadata": {
        "id": "RHeN1iPHBDtH"
      },
      "execution_count": null,
      "outputs": []
    },
    {
      "cell_type": "markdown",
      "source": [
        "### **Trajectory LSTM 모델 훈련 (MAE)**"
      ],
      "metadata": {
        "id": "SsOyY-LUHcNg"
      }
    },
    {
      "cell_type": "markdown",
      "source": [
        "#### **LSTM 모델 인스턴스 생성**"
      ],
      "metadata": {
        "id": "TnNaidCnHcNl"
      }
    },
    {
      "cell_type": "code",
      "source": [
        "# 시드 고정"
      ],
      "metadata": {
        "id": "MmNCuQMTHcNl"
      },
      "execution_count": null,
      "outputs": []
    },
    {
      "cell_type": "code",
      "source": [
        "# 모델 인스턴스 생성"
      ],
      "metadata": {
        "id": "7badsaeaHcNl"
      },
      "execution_count": null,
      "outputs": []
    },
    {
      "cell_type": "markdown",
      "source": [
        "#### **LSTM 모델 파라미터 개수 계산**"
      ],
      "metadata": {
        "id": "regsZNHMHcNl"
      }
    },
    {
      "cell_type": "code",
      "source": [
        "# 모델 파라미터 계산"
      ],
      "metadata": {
        "id": "EoyvIS7QHcNl"
      },
      "execution_count": null,
      "outputs": []
    },
    {
      "cell_type": "code",
      "source": [
        "# 모델 파라미터 개수 출력"
      ],
      "metadata": {
        "id": "_xjh_8tmHcNl"
      },
      "execution_count": null,
      "outputs": []
    },
    {
      "cell_type": "markdown",
      "source": [
        "#### **손실 함수 인스턴스 생성**"
      ],
      "metadata": {
        "id": "5Yws4oX5HcNl"
      }
    },
    {
      "cell_type": "code",
      "source": [
        "# MAE 손실 함수 인스턴스 생성 -> nn.L1Loss() 사용"
      ],
      "metadata": {
        "id": "4B-4L3ZlHcNl"
      },
      "execution_count": null,
      "outputs": []
    },
    {
      "cell_type": "markdown",
      "source": [
        "#### **Optimizer 인스턴스 생성**"
      ],
      "metadata": {
        "id": "wwS-6ulCHcNl"
      }
    },
    {
      "cell_type": "code",
      "source": [
        "# Adam Optimizer 인스턴스 생성"
      ],
      "metadata": {
        "id": "AQEklnmVHcNl"
      },
      "execution_count": null,
      "outputs": []
    },
    {
      "cell_type": "markdown",
      "source": [
        "#### **훈련 진행**"
      ],
      "metadata": {
        "id": "ZROzSoPZHcNl"
      }
    },
    {
      "cell_type": "code",
      "source": [
        "# 모델 훈련 코드 작성"
      ],
      "metadata": {
        "id": "PlkNDVv5HcNl"
      },
      "execution_count": null,
      "outputs": []
    },
    {
      "cell_type": "markdown",
      "source": [
        "### **Trajectory LSTM 모델 훈련 과정 시각화**"
      ],
      "metadata": {
        "id": "lJlqRIkxHcNl"
      }
    },
    {
      "cell_type": "code",
      "source": [
        "# 훈련 과정 시각화 코드 작성"
      ],
      "metadata": {
        "id": "2Nu-XDJ-HcNl"
      },
      "execution_count": null,
      "outputs": []
    },
    {
      "cell_type": "markdown",
      "source": [
        "### **모델 성능 평가**"
      ],
      "metadata": {
        "id": "_JkPY6zxHcNl"
      }
    },
    {
      "cell_type": "markdown",
      "source": [
        "#### **Best Model 불러오기**"
      ],
      "metadata": {
        "id": "svj9wAbhHcNl"
      }
    },
    {
      "cell_type": "code",
      "source": [
        "# Best Model 불러오기"
      ],
      "metadata": {
        "id": "7cmY_ihDHcNl"
      },
      "execution_count": null,
      "outputs": []
    },
    {
      "cell_type": "markdown",
      "source": [
        "#### **전처리에 사용한 통계값 불러오기**"
      ],
      "metadata": {
        "id": "IY0JHMGUHcNl"
      }
    },
    {
      "cell_type": "code",
      "source": [
        "# 통계값 계산"
      ],
      "metadata": {
        "id": "jL-xLhrMHcNl"
      },
      "execution_count": null,
      "outputs": []
    },
    {
      "cell_type": "markdown",
      "source": [
        "#### **Trajectory Model 추론 진행**"
      ],
      "metadata": {
        "id": "nfTrjpSaHcNl"
      }
    },
    {
      "cell_type": "code",
      "source": [
        "# List 인스턴스 생성"
      ],
      "metadata": {
        "id": "GaPm1xjcHcNl"
      },
      "execution_count": null,
      "outputs": []
    },
    {
      "cell_type": "code",
      "source": [
        "# 모델 추론 진행"
      ],
      "metadata": {
        "id": "lpJouH-rHcNl"
      },
      "execution_count": null,
      "outputs": []
    },
    {
      "cell_type": "markdown",
      "source": [
        "#### **추론 (예측) 결과 시각화**"
      ],
      "metadata": {
        "id": "kCqgcPKJHcNm"
      }
    },
    {
      "cell_type": "code",
      "source": [
        "# 예측 결과 시각화"
      ],
      "metadata": {
        "id": "WNgQ1375HcNm"
      },
      "execution_count": null,
      "outputs": []
    }
  ]
}