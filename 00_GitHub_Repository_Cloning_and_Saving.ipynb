{
  "nbformat": 4,
  "nbformat_minor": 0,
  "metadata": {
    "colab": {
      "provenance": []
    },
    "kernelspec": {
      "name": "python3",
      "display_name": "Python 3"
    },
    "language_info": {
      "name": "python"
    }
  },
  "cells": [
    {
      "cell_type": "markdown",
      "source": [
        "# **LSTM-Tracking GitHub Repository Clone 및 Google Drive에 저장하기**"
      ],
      "metadata": {
        "id": "73JfIvQDAvJ9"
      }
    },
    {
      "cell_type": "markdown",
      "source": [
        "## **Google Drive Mount 하기**"
      ],
      "metadata": {
        "id": "5o-HKa2J9x1j"
      }
    },
    {
      "cell_type": "code",
      "execution_count": null,
      "metadata": {
        "id": "pIlgyXK082-y"
      },
      "outputs": [],
      "source": [
        "from google.colab import drive\n",
        "\n",
        "drive.mount(\"/content/gdrive\")"
      ]
    },
    {
      "cell_type": "markdown",
      "source": [
        "## **LSTM-Tracking GitHub Repository Clone 하기**"
      ],
      "metadata": {
        "id": "WhOkaJayAulE"
      }
    },
    {
      "cell_type": "code",
      "source": [
        "%cd \"/content/gdrive/MyDrive\""
      ],
      "metadata": {
        "id": "wST_-V82A61_"
      },
      "execution_count": null,
      "outputs": []
    },
    {
      "cell_type": "code",
      "source": [
        "!git clone \"https://github.com/jetsonai/LSTMTracking.git\""
      ],
      "metadata": {
        "id": "Ej0xHKI2A4Gf"
      },
      "execution_count": null,
      "outputs": []
    },
    {
      "cell_type": "code",
      "source": [
        "%cd \"LSTMTracking\""
      ],
      "metadata": {
        "id": "Uf6lG0gGBK1g"
      },
      "execution_count": null,
      "outputs": []
    },
    {
      "cell_type": "code",
      "source": [
        "!ls"
      ],
      "metadata": {
        "id": "i6ObNPNmBVWF"
      },
      "execution_count": null,
      "outputs": []
    }
  ]
}