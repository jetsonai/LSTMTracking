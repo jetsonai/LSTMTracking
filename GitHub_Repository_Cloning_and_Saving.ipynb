{
  "nbformat": 4,
  "nbformat_minor": 0,
  "metadata": {
    "colab": {
      "provenance": [],
      "authorship_tag": "ABX9TyOULf847hN5FmHDCZxew+ie",
      "include_colab_link": true
    },
    "kernelspec": {
      "name": "python3",
      "display_name": "Python 3"
    },
    "language_info": {
      "name": "python"
    }
  },
  "cells": [
    {
      "cell_type": "markdown",
      "metadata": {
        "id": "view-in-github",
        "colab_type": "text"
      },
      "source": [
        "<a href=\"https://colab.research.google.com/github/jetsonai/LSTMTracking/blob/main/GitHub_Repository_Cloning_and_Saving.ipynb\" target=\"_parent\"><img src=\"https://colab.research.google.com/assets/colab-badge.svg\" alt=\"Open In Colab\"/></a>"
      ]
    },
    {
      "cell_type": "markdown",
      "source": [
        "# **LSTM-Tracking GitHub Repository Clone 및 Google Drive에 저장하기**"
      ],
      "metadata": {
        "id": "73JfIvQDAvJ9"
      }
    },
    {
      "cell_type": "markdown",
      "source": [
        "## **Google Drive Mount 하기**"
      ],
      "metadata": {
        "id": "5o-HKa2J9x1j"
      }
    },
    {
      "cell_type": "code",
      "execution_count": null,
      "metadata": {
        "id": "pIlgyXK082-y"
      },
      "outputs": [],
      "source": [
        "from google.colab import drive\n",
        "\n",
        "drive.mount(\"/content/gdrive\")"
      ]
    },
    {
      "cell_type": "markdown",
      "source": [
        "## **LSTM-Tracking GitHub Repository Clone 하기**"
      ],
      "metadata": {
        "id": "WhOkaJayAulE"
      }
    },
    {
      "cell_type": "code",
      "source": [
        "%cd \"/content/gdrive/MyDrive\""
      ],
      "metadata": {
        "id": "wST_-V82A61_"
      },
      "execution_count": null,
      "outputs": []
    },
    {
      "cell_type": "code",
      "source": [
        "!git clone \"https://github.com/jetsonai/LSTMTracking.git\""
      ],
      "metadata": {
        "id": "Ej0xHKI2A4Gf"
      },
      "execution_count": null,
      "outputs": []
    },
    {
      "cell_type": "code",
      "source": [
        "%cd \"LSTMTracking\""
      ],
      "metadata": {
        "id": "Uf6lG0gGBK1g"
      },
      "execution_count": null,
      "outputs": []
    },
    {
      "cell_type": "code",
      "source": [
        "!ls"
      ],
      "metadata": {
        "id": "i6ObNPNmBVWF"
      },
      "execution_count": null,
      "outputs": []
    }
  ]
}